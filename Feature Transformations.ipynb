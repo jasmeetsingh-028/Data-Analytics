{
 "cells": [
  {
   "cell_type": "markdown",
   "id": "3bbbb850",
   "metadata": {},
   "source": [
    "## Transformation of Features\n",
    "\n",
    "why is it required?\n",
    "\n",
    "   1. Linear Regression- Gradient Descent finding the global minima.\n",
    "   2. KNN, K-means, Hierarichal Clustering finding the Eucledian Distance."
   ]
  },
  {
   "cell_type": "markdown",
   "id": "c0dc3d32",
   "metadata": {},
   "source": [
    "### Standardization \n",
    "\n",
    "Standardization wis required when the dataset have large differences between their ranges or when they are measured in different measurement usnits.<br>\n",
    "\n",
    "We try to bring all the variables to a similar scale by trying to shift the distribtion towards zero, z= (x-x_mean)/std."
   ]
  },
  {
   "cell_type": "code",
   "execution_count": 9,
   "id": "01378aed",
   "metadata": {},
   "outputs": [
    {
     "data": {
      "text/html": [
       "<div>\n",
       "<style scoped>\n",
       "    .dataframe tbody tr th:only-of-type {\n",
       "        vertical-align: middle;\n",
       "    }\n",
       "\n",
       "    .dataframe tbody tr th {\n",
       "        vertical-align: top;\n",
       "    }\n",
       "\n",
       "    .dataframe thead th {\n",
       "        text-align: right;\n",
       "    }\n",
       "</style>\n",
       "<table border=\"1\" class=\"dataframe\">\n",
       "  <thead>\n",
       "    <tr style=\"text-align: right;\">\n",
       "      <th></th>\n",
       "      <th>Survived</th>\n",
       "      <th>Pclass</th>\n",
       "      <th>Age</th>\n",
       "      <th>Fare</th>\n",
       "    </tr>\n",
       "  </thead>\n",
       "  <tbody>\n",
       "    <tr>\n",
       "      <th>0</th>\n",
       "      <td>0</td>\n",
       "      <td>3</td>\n",
       "      <td>22.0</td>\n",
       "      <td>7.2500</td>\n",
       "    </tr>\n",
       "    <tr>\n",
       "      <th>1</th>\n",
       "      <td>1</td>\n",
       "      <td>1</td>\n",
       "      <td>38.0</td>\n",
       "      <td>71.2833</td>\n",
       "    </tr>\n",
       "    <tr>\n",
       "      <th>2</th>\n",
       "      <td>1</td>\n",
       "      <td>3</td>\n",
       "      <td>26.0</td>\n",
       "      <td>7.9250</td>\n",
       "    </tr>\n",
       "    <tr>\n",
       "      <th>3</th>\n",
       "      <td>1</td>\n",
       "      <td>1</td>\n",
       "      <td>35.0</td>\n",
       "      <td>53.1000</td>\n",
       "    </tr>\n",
       "    <tr>\n",
       "      <th>4</th>\n",
       "      <td>0</td>\n",
       "      <td>3</td>\n",
       "      <td>35.0</td>\n",
       "      <td>8.0500</td>\n",
       "    </tr>\n",
       "  </tbody>\n",
       "</table>\n",
       "</div>"
      ],
      "text/plain": [
       "   Survived  Pclass   Age     Fare\n",
       "0         0       3  22.0   7.2500\n",
       "1         1       1  38.0  71.2833\n",
       "2         1       3  26.0   7.9250\n",
       "3         1       1  35.0  53.1000\n",
       "4         0       3  35.0   8.0500"
      ]
     },
     "execution_count": 9,
     "metadata": {},
     "output_type": "execute_result"
    }
   ],
   "source": [
    "import pandas as pd\n",
    "df = pd.read_csv('titanic.csv', usecols=['Pclass', 'Age', 'Fare', 'Survived'])\n",
    "df.head()"
   ]
  },
  {
   "cell_type": "code",
   "execution_count": 10,
   "id": "0d0b83da",
   "metadata": {},
   "outputs": [
    {
     "data": {
      "text/plain": [
       "177"
      ]
     },
     "execution_count": 10,
     "metadata": {},
     "output_type": "execute_result"
    }
   ],
   "source": [
    "df['Age'].isnull().sum()"
   ]
  },
  {
   "cell_type": "code",
   "execution_count": 11,
   "id": "3c9c9d90",
   "metadata": {},
   "outputs": [],
   "source": [
    "##age has some null values can be checked- filling the missing values using median\n",
    "\n",
    "df['Age'].fillna(df.Age.median(), inplace= True)"
   ]
  },
  {
   "cell_type": "code",
   "execution_count": 12,
   "id": "0ecd176c",
   "metadata": {},
   "outputs": [
    {
     "data": {
      "text/plain": [
       "0"
      ]
     },
     "execution_count": 12,
     "metadata": {},
     "output_type": "execute_result"
    }
   ],
   "source": [
    "df['Age'].isnull().sum()"
   ]
  },
  {
   "cell_type": "code",
   "execution_count": 13,
   "id": "0e6558c3",
   "metadata": {},
   "outputs": [
    {
     "data": {
      "text/plain": [
       "Survived    0\n",
       "Pclass      0\n",
       "Age         0\n",
       "Fare        0\n",
       "dtype: int64"
      ]
     },
     "execution_count": 13,
     "metadata": {},
     "output_type": "execute_result"
    }
   ],
   "source": [
    "df.isnull().sum()"
   ]
  },
  {
   "cell_type": "code",
   "execution_count": 14,
   "id": "6e6e91e3",
   "metadata": {},
   "outputs": [],
   "source": [
    "##diving into dependent and independent features\n",
    "\n",
    "X = df.iloc[:,1:]\n",
    "y = df.iloc[:,0]"
   ]
  },
  {
   "cell_type": "code",
   "execution_count": 18,
   "id": "a42c8532",
   "metadata": {},
   "outputs": [],
   "source": [
    "##Train test split\n",
    "\n",
    "from sklearn.model_selection import train_test_split\n",
    "X_train, X_test, y_train, y_test = train_test_split( X, y, test_size=0.33, random_state=42)"
   ]
  },
  {
   "cell_type": "code",
   "execution_count": 19,
   "id": "b262eee8",
   "metadata": {},
   "outputs": [
    {
     "data": {
      "text/html": [
       "<div>\n",
       "<style scoped>\n",
       "    .dataframe tbody tr th:only-of-type {\n",
       "        vertical-align: middle;\n",
       "    }\n",
       "\n",
       "    .dataframe tbody tr th {\n",
       "        vertical-align: top;\n",
       "    }\n",
       "\n",
       "    .dataframe thead th {\n",
       "        text-align: right;\n",
       "    }\n",
       "</style>\n",
       "<table border=\"1\" class=\"dataframe\">\n",
       "  <thead>\n",
       "    <tr style=\"text-align: right;\">\n",
       "      <th></th>\n",
       "      <th>Pclass</th>\n",
       "      <th>Age</th>\n",
       "      <th>Fare</th>\n",
       "    </tr>\n",
       "  </thead>\n",
       "  <tbody>\n",
       "    <tr>\n",
       "      <th>6</th>\n",
       "      <td>1</td>\n",
       "      <td>54.0</td>\n",
       "      <td>51.8625</td>\n",
       "    </tr>\n",
       "    <tr>\n",
       "      <th>718</th>\n",
       "      <td>3</td>\n",
       "      <td>28.0</td>\n",
       "      <td>15.5000</td>\n",
       "    </tr>\n",
       "    <tr>\n",
       "      <th>685</th>\n",
       "      <td>2</td>\n",
       "      <td>25.0</td>\n",
       "      <td>41.5792</td>\n",
       "    </tr>\n",
       "    <tr>\n",
       "      <th>73</th>\n",
       "      <td>3</td>\n",
       "      <td>26.0</td>\n",
       "      <td>14.4542</td>\n",
       "    </tr>\n",
       "    <tr>\n",
       "      <th>882</th>\n",
       "      <td>3</td>\n",
       "      <td>22.0</td>\n",
       "      <td>10.5167</td>\n",
       "    </tr>\n",
       "    <tr>\n",
       "      <th>...</th>\n",
       "      <td>...</td>\n",
       "      <td>...</td>\n",
       "      <td>...</td>\n",
       "    </tr>\n",
       "    <tr>\n",
       "      <th>106</th>\n",
       "      <td>3</td>\n",
       "      <td>21.0</td>\n",
       "      <td>7.6500</td>\n",
       "    </tr>\n",
       "    <tr>\n",
       "      <th>270</th>\n",
       "      <td>1</td>\n",
       "      <td>28.0</td>\n",
       "      <td>31.0000</td>\n",
       "    </tr>\n",
       "    <tr>\n",
       "      <th>860</th>\n",
       "      <td>3</td>\n",
       "      <td>41.0</td>\n",
       "      <td>14.1083</td>\n",
       "    </tr>\n",
       "    <tr>\n",
       "      <th>435</th>\n",
       "      <td>1</td>\n",
       "      <td>14.0</td>\n",
       "      <td>120.0000</td>\n",
       "    </tr>\n",
       "    <tr>\n",
       "      <th>102</th>\n",
       "      <td>1</td>\n",
       "      <td>21.0</td>\n",
       "      <td>77.2875</td>\n",
       "    </tr>\n",
       "  </tbody>\n",
       "</table>\n",
       "<p>596 rows × 3 columns</p>\n",
       "</div>"
      ],
      "text/plain": [
       "     Pclass   Age      Fare\n",
       "6         1  54.0   51.8625\n",
       "718       3  28.0   15.5000\n",
       "685       2  25.0   41.5792\n",
       "73        3  26.0   14.4542\n",
       "882       3  22.0   10.5167\n",
       "..      ...   ...       ...\n",
       "106       3  21.0    7.6500\n",
       "270       1  28.0   31.0000\n",
       "860       3  41.0   14.1083\n",
       "435       1  14.0  120.0000\n",
       "102       1  21.0   77.2875\n",
       "\n",
       "[596 rows x 3 columns]"
      ]
     },
     "execution_count": 19,
     "metadata": {},
     "output_type": "execute_result"
    }
   ],
   "source": [
    "X_train"
   ]
  },
  {
   "cell_type": "code",
   "execution_count": 35,
   "id": "1afa0777",
   "metadata": {},
   "outputs": [
    {
     "data": {
      "text/plain": [
       "<AxesSubplot:xlabel='Age', ylabel='Count'>"
      ]
     },
     "execution_count": 35,
     "metadata": {},
     "output_type": "execute_result"
    },
    {
     "data": {
      "image/png": "[encoded data removed]",
      "text/plain": [
       "<Figure size 432x288 with 1 Axes>"
      ]
     },
     "metadata": {
      "needs_background": "light"
     },
     "output_type": "display_data"
    }
   ],
   "source": [
    "import seaborn as sns\n",
    "sns.histplot(data=X_train, x=\"Age\")"
   ]
  },
  {
   "cell_type": "code",
   "execution_count": 40,
   "id": "cd91125c",
   "metadata": {},
   "outputs": [
    {
     "data": {
      "text/plain": [
       "29.22385906040268"
      ]
     },
     "execution_count": 40,
     "metadata": {},
     "output_type": "execute_result"
    }
   ],
   "source": [
    "np.mean(X_train['Age'])"
   ]
  },
  {
   "cell_type": "markdown",
   "id": "f29ed987",
   "metadata": {},
   "source": [
    "Observation: Distribution is approximately centered at 30."
   ]
  },
  {
   "cell_type": "code",
   "execution_count": 36,
   "id": "964dcdd7",
   "metadata": {},
   "outputs": [
    {
     "data": {
      "text/plain": [
       "<AxesSubplot:xlabel='Fare', ylabel='Count'>"
      ]
     },
     "execution_count": 36,
     "metadata": {},
     "output_type": "execute_result"
    },
    {
     "data": {
      "image/png": "[encoded data removed]",
      "text/plain": [
       "<Figure size 432x288 with 1 Axes>"
      ]
     },
     "metadata": {
      "needs_background": "light"
     },
     "output_type": "display_data"
    }
   ],
   "source": [
    "import seaborn as sns\n",
    "sns.histplot(data=X_train, x=\"Fare\")"
   ]
  },
  {
   "cell_type": "code",
   "execution_count": 20,
   "id": "59efff91",
   "metadata": {},
   "outputs": [],
   "source": [
    "####Standardization: We use the Standardscaler from sklearn library\n",
    "\n",
    "from sklearn.preprocessing import StandardScaler\n",
    "\n",
    "scaler = StandardScaler()\n",
    "X_train_std_scaled = scaler.fit_transform(X_train)\n",
    "\n",
    "## features will be scaled down in shuch a way that mean will be 0 and std will be 1."
   ]
  },
  {
   "cell_type": "code",
   "execution_count": 21,
   "id": "7a551153",
   "metadata": {},
   "outputs": [
    {
     "data": {
      "text/plain": [
       "array([[-1.62580285,  1.91349292,  0.38784185],\n",
       "       [ 0.80576177, -0.09452019, -0.31908053],\n",
       "       [-0.41002054, -0.32621401,  0.18792449],\n",
       "       ...,\n",
       "       [ 0.80576177,  0.90948636, -0.34613654],\n",
       "       [-1.62580285, -1.17575802,  1.71250117],\n",
       "       [-1.62580285, -0.63513911,  0.8821286 ]])"
      ]
     },
     "execution_count": 21,
     "metadata": {},
     "output_type": "execute_result"
    }
   ],
   "source": [
    "X_train_std_scaled"
   ]
  },
  {
   "cell_type": "code",
   "execution_count": 27,
   "id": "732bbabb",
   "metadata": {},
   "outputs": [
    {
     "name": "stdout",
     "output_type": "stream",
     "text": [
      "5.364836092148408e-17 1.0\n"
     ]
    }
   ],
   "source": [
    "import numpy as np\n",
    "print(np.mean(X_train_std_scaled[:,2]), np.std(X_train_std_scaled[:,2]))"
   ]
  },
  {
   "cell_type": "code",
   "execution_count": 38,
   "id": "eec3cfec",
   "metadata": {},
   "outputs": [
    {
     "data": {
      "text/plain": [
       "<AxesSubplot:ylabel='Count'>"
      ]
     },
     "execution_count": 38,
     "metadata": {},
     "output_type": "execute_result"
    },
    {
     "data": {
      "image/png": "[encoded data removed]",
      "text/plain": [
       "<Figure size 432x288 with 1 Axes>"
      ]
     },
     "metadata": {
      "needs_background": "light"
     },
     "output_type": "display_data"
    }
   ],
   "source": [
    "sns.histplot(data=X_test_std_scaled[:,1])"
   ]
  },
  {
   "cell_type": "markdown",
   "id": "78446a23",
   "metadata": {},
   "source": [
    "Observation: Mean shifts towards 0 and std is 1."
   ]
  },
  {
   "cell_type": "code",
   "execution_count": 39,
   "id": "94f866c8",
   "metadata": {},
   "outputs": [
    {
     "data": {
      "text/plain": [
       "<AxesSubplot:ylabel='Count'>"
      ]
     },
     "execution_count": 39,
     "metadata": {},
     "output_type": "execute_result"
    },
    {
     "data": {
      "image/png": "[encoded data removed]",
      "text/plain": [
       "<Figure size 432x288 with 1 Axes>"
      ]
     },
     "metadata": {
      "needs_background": "light"
     },
     "output_type": "display_data"
    }
   ],
   "source": [
    "sns.histplot(data=X_test_std_scaled[:,2])"
   ]
  },
  {
   "cell_type": "code",
   "execution_count": 28,
   "id": "9b096761",
   "metadata": {},
   "outputs": [],
   "source": [
    "## Scale down the test data\n",
    "X_test_std_scaled = scaler.transform(X_test)"
   ]
  },
  {
   "cell_type": "code",
   "execution_count": 29,
   "id": "8121de4e",
   "metadata": {},
   "outputs": [
    {
     "data": {
      "text/plain": [
       "array([[ 0.80576177, -0.09452019, -0.32402243],\n",
       "       [-0.41002054,  0.13717363, -0.4162854 ],\n",
       "       [ 0.80576177, -0.71237038, -0.46634591],\n",
       "       [-0.41002054, -1.79360821,  0.0211365 ],\n",
       "       [ 0.80576177, -1.17575802, -0.40186603],\n",
       "       [-1.62580285, -0.24898274,  0.91250512],\n",
       "       [ 0.80576177, -0.09452019, -0.46974808],\n",
       "       [ 0.80576177, -1.02129548, -0.2704781 ],\n",
       "       [ 0.80576177, -1.02129548, -0.46974808],\n",
       "       [-1.62580285, -0.78960166, -0.10944269],\n",
       "       [-1.62580285,  0.60056127,  0.41190006],\n",
       "       [ 0.80576177,  1.14118018, -0.46391578],\n",
       "       [ 0.80576177, -0.09452019, -0.12531819],\n",
       "       [ 0.80576177,  0.05994235, -0.47995459],\n",
       "       [-0.41002054,  0.52332999, -0.36768297],\n",
       "       [-1.62580285, -1.02129548,  0.14555873],\n",
       "       [-1.62580285,  0.98671764,  0.40128918],\n",
       "       [ 0.80576177, -0.09452019, -0.46820835],\n",
       "       [-0.41002054, -0.17175147, -0.36768297],\n",
       "       [-1.62580285,  1.372874  ,  0.39051499],\n",
       "       [ 0.80576177, -0.40344529, -0.46691358],\n",
       "       [-1.62580285,  0.36886745, -0.10425778],\n",
       "       [ 0.80576177, -0.78960166, -0.46772233],\n",
       "       [ 0.80576177, -0.71237038, -0.44107264],\n",
       "       [ 0.80576177, -0.09452019, -0.33852151],\n",
       "       [ 0.80576177, -1.48468312, -0.07801247],\n",
       "       [-1.62580285,  0.83225509, -0.08149629],\n",
       "       [-0.41002054,  0.13717363, -0.36768297],\n",
       "       [ 0.80576177, -1.94807076, -0.07801247],\n",
       "       [ 0.80576177,  0.13717363, -0.46772233],\n",
       "       [ 0.80576177, -0.78960166, -0.46691358],\n",
       "       [ 0.80576177, -0.55790784, -0.46974808],\n",
       "       [-1.62580285, -0.09452019, -0.02365939],\n",
       "       [ 0.80576177, -0.09452019, -0.47363627],\n",
       "       [ 0.80576177, -0.86683293, -0.46391578],\n",
       "       [ 0.80576177, -0.17175147, -0.3394119 ],\n",
       "       [-1.62580285, -0.09452019,  0.06973893],\n",
       "       [ 0.80576177, -0.09452019, -0.46974808],\n",
       "       [-1.62580285,  0.05994235, -0.01774545],\n",
       "       [ 0.80576177, -0.09452019, -0.46691358],\n",
       "       [-0.41002054, -0.63513911,  0.80849591],\n",
       "       [ 0.80576177, -0.01728892, -0.48343841],\n",
       "       [ 0.80576177, -0.09452019, -0.46391578],\n",
       "       [ 0.80576177, -0.09452019, -0.46974808],\n",
       "       [ 0.80576177,  1.21841146, -0.3394119 ],\n",
       "       [ 0.80576177, -1.02129548,  0.04786783],\n",
       "       [ 0.80576177, -0.78960166, -0.46181033],\n",
       "       [ 0.80576177, -0.48067656, -0.44107264],\n",
       "       [ 0.80576177, -0.40344529, -0.48335676],\n",
       "       [-1.62580285,  2.22241801,  1.58176062],\n",
       "       [ 0.80576177, -1.87083949, -0.24601552],\n",
       "       [-1.62580285,  1.75903037,  1.19731538],\n",
       "       [ 0.80576177,  0.83225509, -0.07801247],\n",
       "       [-1.62580285, -1.40745185,  1.71250117],\n",
       "       [ 0.80576177,  2.76303693, -0.46974808],\n",
       "       [-1.62580285, -0.86683293,  0.9280579 ],\n",
       "       [-0.41002054,  0.2144049 , -0.4162854 ],\n",
       "       [-1.62580285,  1.60456783,  4.19162962],\n",
       "       [-0.41002054,  0.44609872, -0.21215518],\n",
       "       [ 0.80576177, -0.78960166, -0.4672363 ],\n",
       "       [ 0.80576177, -0.63513911, -0.46926205],\n",
       "       [-0.41002054, -1.2529893 , -0.24131664],\n",
       "       [-0.41002054, -0.09452019, -0.11495032],\n",
       "       [-1.62580285, -0.09452019, -0.11640839],\n",
       "       [ 0.80576177, -0.09452019, -0.46974808],\n",
       "       [-0.41002054,  2.14518674, -0.4162854 ],\n",
       "       [-0.41002054, -0.63513911,  0.80849591],\n",
       "       [ 0.80576177, -0.01728892, -0.46731796],\n",
       "       [ 0.80576177, -0.9440642 , -0.47987294],\n",
       "       [-1.62580285,  1.75903037,  0.9011652 ],\n",
       "       [-0.41002054, -0.24898274, -0.11495032],\n",
       "       [-1.62580285, -0.86683293,  4.48040973],\n",
       "       [-1.62580285, -0.24898274, -0.03718642],\n",
       "       [-1.62580285,  0.75502382,  0.99626266],\n",
       "       [ 0.80576177, -0.48067656, -0.46772233],\n",
       "       [ 0.80576177,  0.52332999, -0.31810849],\n",
       "       [ 0.80576177,  0.09855799, -0.46974808],\n",
       "       [-1.62580285, -0.55790784,  0.34191255],\n",
       "       [-0.41002054,  0.67779254, -0.36768297],\n",
       "       [ 0.80576177,  0.90948636, -0.22746495],\n",
       "       [ 0.80576177, -1.02129548,  0.15114801],\n",
       "       [-0.41002054, -0.01728892, -0.4162854 ],\n",
       "       [-1.62580285,  0.83225509,  1.99439528],\n",
       "       [ 0.80576177, -0.09452019, -0.46999109],\n",
       "       [-1.62580285,  2.06795547, -0.02365939],\n",
       "       [-1.62580285,  3.22642457,  0.34199421],\n",
       "       [-1.62580285,  0.13717363,  1.58176062],\n",
       "       [-1.62580285,  0.05994235,  0.48634343],\n",
       "       [-1.62580285,  0.67779254, -0.62041562],\n",
       "       [ 0.80576177, -0.09452019, -0.47946856],\n",
       "       [ 0.80576177, -1.56191439, -0.22138964],\n",
       "       [ 0.80576177, -1.56191439, -0.01239918],\n",
       "       [-1.62580285,  2.45411184,  0.00793219],\n",
       "       [ 0.80576177, -0.09452019, -0.47015245],\n",
       "       [ 0.80576177, -0.09452019, -0.46691358],\n",
       "       [ 0.80576177, -0.09452019, -0.46772233],\n",
       "       [-1.62580285,  1.45010528,  0.39051499],\n",
       "       [ 0.80576177,  1.21841146, -0.46391578],\n",
       "       [-0.41002054,  0.52332999, -0.36768297],\n",
       "       [ 0.80576177, -0.17175147, -0.46691358],\n",
       "       [-1.62580285,  2.68580566, -0.11495032],\n",
       "       [ 0.80576177,  0.44609872, -0.48189869],\n",
       "       [-1.62580285, -0.78960166,  1.15025267],\n",
       "       [ 0.80576177,  0.67779254, -0.48335676],\n",
       "       [ 0.80576177,  0.09855799, -0.46391578],\n",
       "       [ 0.80576177, -0.32621401, -0.46926205],\n",
       "       [-0.41002054,  0.83225509,  0.13778234],\n",
       "       [-1.62580285,  1.372874  ,  0.12806185],\n",
       "       [ 0.80576177,  0.05994235, -0.43572637],\n",
       "       [-1.62580285,  0.83225509, -0.01774545],\n",
       "       [-1.62580285, -0.09452019,  0.39051499],\n",
       "       [ 0.80576177, -0.67375475, -0.47946856],\n",
       "       [-1.62580285, -0.09452019,  1.11185675],\n",
       "       [-1.62580285,  0.52332999, -0.10936104],\n",
       "       [-1.62580285, -0.09452019,  3.69118787],\n",
       "       [ 0.80576177, -0.71237038, -0.42900369],\n",
       "       [-1.62580285,  3.22642457,  0.05329575],\n",
       "       [-0.41002054,  0.52332999, -0.37011309],\n",
       "       [-0.41002054, -0.55790784, -0.0566274 ],\n",
       "       [ 0.80576177,  1.45010528,  0.04786783],\n",
       "       [-0.41002054, -0.48067656, -0.39684443],\n",
       "       [-1.62580285,  0.2144049 ,  0.86276928],\n",
       "       [-1.62580285,  2.60857438,  0.8951696 ],\n",
       "       [-0.41002054, -2.1928939 , -0.0566274 ],\n",
       "       [ 0.80576177, -0.32621401, -0.47946856],\n",
       "       [-1.62580285,  0.44609872, -0.10425778],\n",
       "       [-1.62580285,  1.52733655, -0.11632674],\n",
       "       [-1.62580285, -0.40344529,  0.91930946],\n",
       "       [ 0.80576177, -0.09452019, -0.3393322 ],\n",
       "       [ 0.80576177, -0.63513911, -0.46391578],\n",
       "       [ 0.80576177, -0.09452019, -0.4672363 ],\n",
       "       [ 0.80576177, -0.09452019, -0.32402243],\n",
       "       [-0.41002054, -0.09452019, -0.62041562],\n",
       "       [ 0.80576177, -1.87083949, -0.37788948],\n",
       "       [-1.62580285,  1.52733655,  0.48634343],\n",
       "       [ 0.80576177, -1.09852675, -0.3394119 ],\n",
       "       [-1.62580285, -0.09452019,  1.53526365],\n",
       "       [ 0.80576177, -0.01728892, -0.46926205],\n",
       "       [ 0.80576177,  0.98671764, -0.47363627],\n",
       "       [ 0.80576177, -0.86683293, -0.2743663 ],\n",
       "       [ 0.80576177, -0.63513911, -0.45646406],\n",
       "       [-0.41002054,  1.14118018, -0.11495032],\n",
       "       [-0.41002054, -0.09452019, -0.36768297],\n",
       "       [-0.41002054,  0.60056127, -0.11495032],\n",
       "       [ 0.80576177,  0.75502382, -0.05419727],\n",
       "       [-0.41002054,  0.36886745,  0.01141601],\n",
       "       [-0.41002054,  0.05994235, -0.36768297],\n",
       "       [-0.41002054,  2.8402682 , -0.4162854 ],\n",
       "       [-1.62580285, -0.09452019,  2.22809133],\n",
       "       [ 0.80576177,  1.06394891, -0.46391578],\n",
       "       [ 0.80576177, -0.09452019, -0.45103614],\n",
       "       [ 0.80576177, -0.40344529, -0.47468997],\n",
       "       [ 0.80576177, -0.86683293, -0.46885768],\n",
       "       [ 0.80576177, -0.09452019, -0.15091612],\n",
       "       [ 0.80576177, -0.09452019, -0.46391578],\n",
       "       [ 0.80576177, -0.09452019, -0.48335676],\n",
       "       [ 0.80576177, -0.09452019,  0.47791772],\n",
       "       [ 0.80576177, -0.09452019, -0.46901904],\n",
       "       [-0.41002054,  0.52332999, -0.11495032],\n",
       "       [ 0.80576177,  0.2144049 , -0.31908053],\n",
       "       [ 0.80576177, -0.44206093, -0.47987294],\n",
       "       [-1.62580285, -0.09452019, -0.10425778],\n",
       "       [-0.41002054,  0.75502382, -0.36768297],\n",
       "       [-1.62580285, -0.09452019,  0.9770647 ],\n",
       "       [ 0.80576177, -0.09452019, -0.45597804],\n",
       "       [-1.62580285,  2.76303693,  0.58452035],\n",
       "       [-0.41002054, -0.48067656, -0.4162854 ],\n",
       "       [-1.62580285, -0.09452019,  0.38784185],\n",
       "       [ 0.80576177, -0.55790784, -0.46691358],\n",
       "       [ 0.80576177,  0.44609872, -0.48335676],\n",
       "       [-1.62580285, -0.48067656,  0.61133139],\n",
       "       [-0.41002054, -0.86683293, -0.36768297],\n",
       "       [-1.62580285,  0.52332999, -0.10741694],\n",
       "       [ 0.80576177, -1.56191439, -0.32402243],\n",
       "       [ 0.80576177, -0.9440642 , -0.48189869],\n",
       "       [ 0.80576177, -0.09452019, -0.47995459],\n",
       "       [ 0.80576177,  0.67779254, -0.01021207],\n",
       "       [-0.41002054, -0.9440642 , -0.4162854 ],\n",
       "       [ 0.80576177, -1.94807076, -0.29575137],\n",
       "       [-1.62580285,  1.25702709, -0.06634788],\n",
       "       [-0.41002054, -0.48067656, -0.36768297],\n",
       "       [ 0.80576177,  0.2144049 , -0.46634591],\n",
       "       [ 0.80576177, -0.24898274, -0.46772233],\n",
       "       [ 0.80576177, -1.79360821, -0.01239918],\n",
       "       [-1.62580285, -0.40344529,  4.19162962],\n",
       "       [-1.62580285,  1.21841146, -0.10425778],\n",
       "       [-0.41002054, -0.01728892, -0.08149629],\n",
       "       [ 0.80576177, -0.09452019, -0.46691358],\n",
       "       [-1.62580285, -0.09452019,  0.06973893],\n",
       "       [-0.41002054,  0.98671764, -0.36768297],\n",
       "       [ 0.80576177,  0.52332999, -0.15091612],\n",
       "       [-0.41002054,  0.29163617, -0.38177767],\n",
       "       [ 0.80576177, -0.9440642 , -0.48327511],\n",
       "       [ 0.80576177, -0.01728892, -0.43572637],\n",
       "       [-0.41002054,  1.60456783, -0.11495032],\n",
       "       [-1.62580285,  0.44609872,  1.12927197],\n",
       "       [-1.62580285,  0.67779254,  3.80289181],\n",
       "       [-0.41002054,  0.36886745, -0.36768297],\n",
       "       [-1.62580285, -0.9440642 ,  0.48771985],\n",
       "       [ 0.80576177, -1.40745185, -0.01239918],\n",
       "       [ 0.80576177,  2.45411184, -0.49915255],\n",
       "       [ 0.80576177,  0.05994235, -0.45200819],\n",
       "       [-0.41002054, -1.71637694, -0.11009007],\n",
       "       [ 0.80576177,  2.60857438, -0.43402529],\n",
       "       [ 0.80576177, -0.71237038, -0.47987294],\n",
       "       [ 0.80576177, -0.09452019, -0.18574851],\n",
       "       [ 0.80576177, -0.01728892, -0.43605104],\n",
       "       [-1.62580285,  0.52332999,  1.71250117],\n",
       "       [ 0.80576177, -0.09452019, -0.3393322 ],\n",
       "       [ 0.80576177,  1.60456783, -0.46391578],\n",
       "       [-1.62580285, -0.17175147,  3.49135022],\n",
       "       [ 0.80576177,  0.05994235, -0.47946856],\n",
       "       [-1.62580285,  0.29163617,  1.12927197],\n",
       "       [ 0.80576177, -0.09452019, -0.4702341 ],\n",
       "       [ 0.80576177, -0.09452019, -0.12531819],\n",
       "       [ 0.80576177, -2.10253331, -0.21069711],\n",
       "       [-0.41002054, -0.32621401, -0.03718642],\n",
       "       [-1.62580285,  1.6817991 ,  0.57285576],\n",
       "       [-0.41002054, -0.32621401, -0.11495032],\n",
       "       [ 0.80576177, -0.09452019, -0.47946856],\n",
       "       [ 0.80576177, -0.09452019, -0.46691358],\n",
       "       [-0.41002054, -0.40344529, -0.36768297],\n",
       "       [ 0.80576177, -0.86683293, -0.22746495],\n",
       "       [-1.62580285, -0.09452019, -0.02746594],\n",
       "       [ 0.80576177, -0.32621401, -0.48335676],\n",
       "       [-0.41002054, -0.40344529, -0.33852151],\n",
       "       [ 0.80576177, -0.55790784, -0.47420395],\n",
       "       [-1.62580285, -2.18594308,  2.32586387],\n",
       "       [-0.41002054, -0.40344529, -0.11495032],\n",
       "       [ 0.80576177, -0.24898274, -0.46634591],\n",
       "       [-0.41002054,  0.36886745, -0.21215518],\n",
       "       [-1.62580285, -0.63513911,  4.48040973],\n",
       "       [ 0.80576177, -0.09452019, -0.46974808],\n",
       "       [ 0.80576177, -0.09452019, -0.47987294],\n",
       "       [ 0.80576177, -0.09452019, -0.45200819],\n",
       "       [ 0.80576177, -0.55790784, -0.46926205],\n",
       "       [-1.62580285,  2.53134311,  0.93486224],\n",
       "       [ 0.80576177, -0.86683293, -0.42908339],\n",
       "       [-1.62580285,  0.98671764,  3.80289181],\n",
       "       [-0.41002054,  2.14518674, -0.3803196 ],\n",
       "       [ 0.80576177, -0.78960166, -0.62041562],\n",
       "       [-0.41002054,  0.98671764, -0.11495032],\n",
       "       [ 0.80576177, -0.09452019, -0.47995459],\n",
       "       [ 0.80576177, -0.71237038, -0.45200819],\n",
       "       [ 0.80576177,  0.40748308, -0.49526435],\n",
       "       [ 0.80576177, -0.09452019, -0.43572637],\n",
       "       [ 0.80576177, -0.09452019, -0.46391578],\n",
       "       [ 0.80576177, -0.48067656, -0.46691358],\n",
       "       [ 0.80576177, -0.55790784, -0.47946856],\n",
       "       [-1.62580285,  1.75903037, -0.02746594],\n",
       "       [ 0.80576177,  0.05994235, -0.37788948],\n",
       "       [-0.41002054,  0.56194563, -0.11495032],\n",
       "       [ 0.80576177, -0.09452019, -0.46974808],\n",
       "       [ 0.80576177, -0.55790784, -0.47987294],\n",
       "       [-1.62580285,  1.60456783,  1.97787045],\n",
       "       [ 0.80576177, -0.17175147, -0.48481483],\n",
       "       [ 0.80576177, -0.55790784, -0.46391578],\n",
       "       [-1.62580285,  1.6817991 ,  0.8951696 ],\n",
       "       [-0.41002054,  0.52332999, -0.4162854 ],\n",
       "       [-0.41002054, -0.01728892, -0.11495032],\n",
       "       [-1.62580285, -0.55790784,  2.32586387],\n",
       "       [-1.62580285,  1.60456783,  1.44858996],\n",
       "       [-0.41002054,  0.83225509, -0.36768297],\n",
       "       [ 0.80576177, -0.17175147, -0.45200819],\n",
       "       [-1.62580285, -0.09452019, -0.62041562],\n",
       "       [-1.62580285,  2.76303693, -0.10425778],\n",
       "       [ 0.80576177, -0.9440642 , -0.45200819],\n",
       "       [-1.62580285, -0.09452019, -0.10425778],\n",
       "       [-1.62580285, -1.94807076,  0.9709894 ],\n",
       "       [ 0.80576177, -0.09452019, -0.46691358],\n",
       "       [ 0.80576177, -2.17976458, -0.40397343],\n",
       "       [-0.41002054,  0.52332999, -0.08092861],\n",
       "       [-0.41002054,  1.06394891, -0.11009007],\n",
       "       [-1.62580285,  0.67779254,  2.36304473],\n",
       "       [-0.41002054,  0.13717363, -0.11009007],\n",
       "       [ 0.80576177, -0.01728892, -0.46391578],\n",
       "       [ 0.80576177, -0.86683293, -0.45905554],\n",
       "       [-0.41002054, -0.09452019, -0.32782897],\n",
       "       [-1.62580285,  0.75502382,  1.53526365],\n",
       "       [-0.41002054,  0.75502382, -0.36768297],\n",
       "       [ 0.80576177, -0.24898274, -0.45200819],\n",
       "       [ 0.80576177, -0.71237038, -0.48335676],\n",
       "       [-1.62580285, -0.09452019,  1.97787045],\n",
       "       [ 0.80576177,  1.52733655, -0.62041562],\n",
       "       [-0.41002054, -0.48067656, -0.32791062],\n",
       "       [ 0.80576177, -2.17976458,  0.15114801],\n",
       "       [ 0.80576177, -0.09452019, -0.4672363 ],\n",
       "       [ 0.80576177, -0.09452019, -0.1645248 ],\n",
       "       [-0.41002054, -2.02530203, -0.11495032],\n",
       "       [ 0.80576177, -1.94807076, -0.40397343],\n",
       "       [ 0.80576177, -0.78960166, -0.47169217],\n",
       "       [ 0.80576177,  0.87087073, -0.46974808],\n",
       "       [ 0.80576177, -2.17976458, -0.31438165],\n",
       "       [ 0.80576177, -0.09452019, -0.32402243],\n",
       "       [ 0.80576177, -0.63513911, -0.46634591]])"
      ]
     },
     "execution_count": 29,
     "metadata": {},
     "output_type": "execute_result"
    }
   ],
   "source": [
    "X_test_std_scaled"
   ]
  },
  {
   "cell_type": "code",
   "execution_count": 30,
   "id": "ca61249d",
   "metadata": {},
   "outputs": [
    {
     "name": "stdout",
     "output_type": "stream",
     "text": [
      "0.0171118067757641 0.8917768156639237\n"
     ]
    }
   ],
   "source": [
    "print(np.mean(X_test_std_scaled[:,2]), np.std(X_test_std_scaled[:,2]))"
   ]
  },
  {
   "cell_type": "code",
   "execution_count": 31,
   "id": "5f446509",
   "metadata": {},
   "outputs": [],
   "source": [
    "from sklearn.linear_model import LogisticRegression\n",
    "classifier = LogisticRegression()"
   ]
  },
  {
   "cell_type": "code",
   "execution_count": 32,
   "id": "c9791033",
   "metadata": {},
   "outputs": [
    {
     "data": {
      "text/plain": [
       "LogisticRegression()"
      ]
     },
     "execution_count": 32,
     "metadata": {},
     "output_type": "execute_result"
    }
   ],
   "source": [
    "classifier.fit(X_train_std_scaled, y_train)"
   ]
  },
  {
   "cell_type": "code",
   "execution_count": 33,
   "id": "3b493194",
   "metadata": {},
   "outputs": [
    {
     "data": {
      "text/plain": [
       "array([0, 0, 0, 1, 0, 1, 0, 0, 0, 1, 1, 0, 0, 0, 0, 1, 1, 0, 0, 1, 0, 1,\n",
       "       0, 0, 0, 0, 1, 0, 0, 0, 0, 0, 1, 0, 0, 0, 1, 0, 1, 0, 1, 0, 0, 0,\n",
       "       0, 0, 0, 0, 0, 1, 0, 1, 0, 1, 0, 1, 0, 1, 0, 0, 0, 1, 0, 1, 0, 0,\n",
       "       1, 0, 0, 1, 0, 1, 1, 1, 0, 0, 0, 1, 0, 0, 0, 0, 1, 0, 0, 0, 1, 1,\n",
       "       1, 0, 0, 0, 0, 0, 0, 0, 1, 0, 0, 0, 0, 0, 1, 0, 0, 0, 0, 1, 0, 1,\n",
       "       1, 0, 1, 1, 1, 0, 0, 0, 0, 0, 0, 1, 0, 1, 0, 1, 0, 1, 0, 0, 0, 0,\n",
       "       0, 0, 1, 0, 1, 0, 0, 0, 0, 0, 0, 0, 0, 0, 0, 0, 1, 0, 0, 0, 0, 0,\n",
       "       0, 0, 0, 0, 0, 0, 0, 1, 0, 1, 0, 0, 0, 1, 0, 0, 1, 0, 1, 0, 0, 0,\n",
       "       0, 0, 0, 1, 0, 0, 0, 0, 1, 1, 0, 0, 1, 0, 0, 0, 0, 0, 0, 1, 1, 0,\n",
       "       1, 0, 0, 0, 1, 0, 0, 0, 0, 1, 0, 0, 1, 0, 1, 0, 0, 0, 0, 1, 0, 0,\n",
       "       0, 0, 0, 1, 0, 0, 0, 1, 0, 0, 0, 1, 0, 0, 0, 0, 0, 0, 1, 0, 0, 0,\n",
       "       0, 0, 0, 0, 0, 0, 0, 0, 0, 0, 0, 0, 1, 0, 0, 1, 0, 0, 1, 1, 0, 0,\n",
       "       1, 0, 0, 1, 1, 0, 0, 0, 0, 1, 0, 0, 0, 0, 1, 0, 0, 0, 1, 0, 0, 0,\n",
       "       0, 0, 1, 0, 0, 0, 0, 0, 0], dtype=int64)"
      ]
     },
     "execution_count": 33,
     "metadata": {},
     "output_type": "execute_result"
    }
   ],
   "source": [
    "classifier.predict(X_test_std_scaled)"
   ]
  },
  {
   "cell_type": "markdown",
   "id": "05d1e4e6",
   "metadata": {},
   "source": [
    "### Min Max Scaling (Usually used with CNN)\n",
    "\n",
    "\n",
    "Min Max Scaling scales the values between 0 to 1. <br>\n",
    "\n",
    "X_scaled  = (X-X_min)/(X_max-X_max) <br>\n",
    "\n",
    "Usually used with images as pixel values ranges from 0 to 255.\n",
    "\n",
    "Can also be considered as Normalization."
   ]
  },
  {
   "cell_type": "code",
   "execution_count": 41,
   "id": "0ca600ce",
   "metadata": {},
   "outputs": [
    {
     "data": {
      "text/html": [
       "<div>\n",
       "<style scoped>\n",
       "    .dataframe tbody tr th:only-of-type {\n",
       "        vertical-align: middle;\n",
       "    }\n",
       "\n",
       "    .dataframe tbody tr th {\n",
       "        vertical-align: top;\n",
       "    }\n",
       "\n",
       "    .dataframe thead th {\n",
       "        text-align: right;\n",
       "    }\n",
       "</style>\n",
       "<table border=\"1\" class=\"dataframe\">\n",
       "  <thead>\n",
       "    <tr style=\"text-align: right;\">\n",
       "      <th></th>\n",
       "      <th>Survived</th>\n",
       "      <th>Pclass</th>\n",
       "      <th>Age</th>\n",
       "      <th>Fare</th>\n",
       "    </tr>\n",
       "  </thead>\n",
       "  <tbody>\n",
       "    <tr>\n",
       "      <th>0</th>\n",
       "      <td>0.0</td>\n",
       "      <td>1.0</td>\n",
       "      <td>0.271174</td>\n",
       "      <td>0.014151</td>\n",
       "    </tr>\n",
       "    <tr>\n",
       "      <th>1</th>\n",
       "      <td>1.0</td>\n",
       "      <td>0.0</td>\n",
       "      <td>0.472229</td>\n",
       "      <td>0.139136</td>\n",
       "    </tr>\n",
       "    <tr>\n",
       "      <th>2</th>\n",
       "      <td>1.0</td>\n",
       "      <td>1.0</td>\n",
       "      <td>0.321438</td>\n",
       "      <td>0.015469</td>\n",
       "    </tr>\n",
       "    <tr>\n",
       "      <th>3</th>\n",
       "      <td>1.0</td>\n",
       "      <td>0.0</td>\n",
       "      <td>0.434531</td>\n",
       "      <td>0.103644</td>\n",
       "    </tr>\n",
       "    <tr>\n",
       "      <th>4</th>\n",
       "      <td>0.0</td>\n",
       "      <td>1.0</td>\n",
       "      <td>0.434531</td>\n",
       "      <td>0.015713</td>\n",
       "    </tr>\n",
       "  </tbody>\n",
       "</table>\n",
       "</div>"
      ],
      "text/plain": [
       "   Survived  Pclass       Age      Fare\n",
       "0       0.0     1.0  0.271174  0.014151\n",
       "1       1.0     0.0  0.472229  0.139136\n",
       "2       1.0     1.0  0.321438  0.015469\n",
       "3       1.0     0.0  0.434531  0.103644\n",
       "4       0.0     1.0  0.434531  0.015713"
      ]
     },
     "execution_count": 41,
     "metadata": {},
     "output_type": "execute_result"
    }
   ],
   "source": [
    "from sklearn.preprocessing import MinMaxScaler\n",
    "\n",
    "min_max = MinMaxScaler()  #feature_range can also be given\n",
    "df_minmax = pd.DataFrame(min_max.fit_transform(df), columns = df.columns)\n",
    "df_minmax.head()"
   ]
  },
  {
   "cell_type": "code",
   "execution_count": 42,
   "id": "f17efd11",
   "metadata": {},
   "outputs": [
    {
     "data": {
      "text/plain": [
       "<seaborn.axisgrid.PairGrid at 0x2599773b460>"
      ]
     },
     "execution_count": 42,
     "metadata": {},
     "output_type": "execute_result"
    },
    {
     "data": {
      "image/png": "[encoded data removed]",
      "text/plain": [
       "<Figure size 720x720 with 20 Axes>"
      ]
     },
     "metadata": {
      "needs_background": "light"
     },
     "output_type": "display_data"
    }
   ],
   "source": [
    "sns.pairplot(df_minmax)"
   ]
  },
  {
   "cell_type": "code",
   "execution_count": 43,
   "id": "dc1bd1de",
   "metadata": {},
   "outputs": [
    {
     "data": {
      "text/plain": [
       "<AxesSubplot:xlabel='Age', ylabel='Count'>"
      ]
     },
     "execution_count": 43,
     "metadata": {},
     "output_type": "execute_result"
    },
    {
     "data": {
      "image/png": "[encoded data removed]",
      "text/plain": [
       "<Figure size 432x288 with 1 Axes>"
      ]
     },
     "metadata": {
      "needs_background": "light"
     },
     "output_type": "display_data"
    }
   ],
   "source": [
    "sns.histplot(data=X_train, x=\"Age\")"
   ]
  },
  {
   "cell_type": "code",
   "execution_count": 45,
   "id": "fe130b6f",
   "metadata": {},
   "outputs": [
    {
     "data": {
      "text/plain": [
       "<AxesSubplot:xlabel='Fare', ylabel='Count'>"
      ]
     },
     "execution_count": 45,
     "metadata": {},
     "output_type": "execute_result"
    },
    {
     "data": {
      "image/png": "[encoded data removed]",
      "text/plain": [
       "<Figure size 432x288 with 1 Axes>"
      ]
     },
     "metadata": {
      "needs_background": "light"
     },
     "output_type": "display_data"
    }
   ],
   "source": [
    "sns.histplot(data=X_train, x=\"Fare\")"
   ]
  },
  {
   "cell_type": "code",
   "execution_count": 46,
   "id": "2e695ad8",
   "metadata": {},
   "outputs": [
    {
     "data": {
      "text/plain": [
       "<AxesSubplot:xlabel='Fare', ylabel='Count'>"
      ]
     },
     "execution_count": 46,
     "metadata": {},
     "output_type": "execute_result"
    },
    {
     "data": {
      "image/png": "[encoded data removed]",
      "text/plain": [
       "<Figure size 432x288 with 1 Axes>"
      ]
     },
     "metadata": {
      "needs_background": "light"
     },
     "output_type": "display_data"
    }
   ],
   "source": [
    "sns.histplot(data=df_minmax, x=\"Fare\")"
   ]
  },
  {
   "cell_type": "code",
   "execution_count": 44,
   "id": "f7ba2c7f",
   "metadata": {},
   "outputs": [
    {
     "data": {
      "text/plain": [
       "<AxesSubplot:xlabel='Age', ylabel='Count'>"
      ]
     },
     "execution_count": 44,
     "metadata": {},
     "output_type": "execute_result"
    },
    {
     "data": {
      "image/png": "[encoded data removed]",
      "text/plain": [
       "<Figure size 432x288 with 1 Axes>"
      ]
     },
     "metadata": {
      "needs_background": "light"
     },
     "output_type": "display_data"
    }
   ],
   "source": [
    "sns.histplot(data=df_minmax, x=\"Age\")"
   ]
  },
  {
   "cell_type": "markdown",
   "id": "32c83a49",
   "metadata": {},
   "source": [
    "Observation: Values now range from 0 to 1."
   ]
  },
  {
   "cell_type": "markdown",
   "id": "7f09b0e4",
   "metadata": {},
   "source": [
    "### Robust Scaler\n",
    "\n",
    "Robust Scaler are robust to outliers. Scaling using median and quantities consists od substracting the median  to all the observations, and then dividing by the interqantile difference. <BR>\n",
    "    \n",
    "    IQR = 75th quantile - 25th quantile\n",
    "  \n",
    "    X_scaled = (X-X_median)/IQR\n",
    "    \n",
    "    "
   ]
  },
  {
   "cell_type": "code",
   "execution_count": 47,
   "id": "9fad2d06",
   "metadata": {},
   "outputs": [
    {
     "data": {
      "text/html": [
       "<div>\n",
       "<style scoped>\n",
       "    .dataframe tbody tr th:only-of-type {\n",
       "        vertical-align: middle;\n",
       "    }\n",
       "\n",
       "    .dataframe tbody tr th {\n",
       "        vertical-align: top;\n",
       "    }\n",
       "\n",
       "    .dataframe thead th {\n",
       "        text-align: right;\n",
       "    }\n",
       "</style>\n",
       "<table border=\"1\" class=\"dataframe\">\n",
       "  <thead>\n",
       "    <tr style=\"text-align: right;\">\n",
       "      <th></th>\n",
       "      <th>0</th>\n",
       "      <th>1</th>\n",
       "      <th>2</th>\n",
       "    </tr>\n",
       "  </thead>\n",
       "  <tbody>\n",
       "    <tr>\n",
       "      <th>0</th>\n",
       "      <td>-2.0</td>\n",
       "      <td>2.000000</td>\n",
       "      <td>1.602069</td>\n",
       "    </tr>\n",
       "    <tr>\n",
       "      <th>1</th>\n",
       "      <td>0.0</td>\n",
       "      <td>0.000000</td>\n",
       "      <td>0.044788</td>\n",
       "    </tr>\n",
       "    <tr>\n",
       "      <th>2</th>\n",
       "      <td>-1.0</td>\n",
       "      <td>-0.230769</td>\n",
       "      <td>1.161670</td>\n",
       "    </tr>\n",
       "    <tr>\n",
       "      <th>3</th>\n",
       "      <td>0.0</td>\n",
       "      <td>-0.153846</td>\n",
       "      <td>0.000000</td>\n",
       "    </tr>\n",
       "    <tr>\n",
       "      <th>4</th>\n",
       "      <td>0.0</td>\n",
       "      <td>-0.461538</td>\n",
       "      <td>-0.168630</td>\n",
       "    </tr>\n",
       "  </tbody>\n",
       "</table>\n",
       "</div>"
      ],
      "text/plain": [
       "     0         1         2\n",
       "0 -2.0  2.000000  1.602069\n",
       "1  0.0  0.000000  0.044788\n",
       "2 -1.0 -0.230769  1.161670\n",
       "3  0.0 -0.153846  0.000000\n",
       "4  0.0 -0.461538 -0.168630"
      ]
     },
     "execution_count": 47,
     "metadata": {},
     "output_type": "execute_result"
    }
   ],
   "source": [
    "from sklearn.preprocessing import RobustScaler\n",
    "\n",
    "scaler = RobustScaler()\n",
    "df_robust = pd.DataFrame(scaler.fit_transform(X_train))\n",
    "df_robust.head()"
   ]
  },
  {
   "cell_type": "code",
   "execution_count": 48,
   "id": "96fed186",
   "metadata": {},
   "outputs": [
    {
     "data": {
      "text/plain": [
       "array([[ 0.00000000e+00,  0.00000000e+00,  3.39014989e-02],\n",
       "       [-1.00000000e+00,  2.30769231e-01, -1.69344754e-01],\n",
       "       [ 0.00000000e+00, -6.15384615e-01, -2.79623126e-01],\n",
       "       [-1.00000000e+00, -1.69230769e+00,  7.94252677e-01],\n",
       "       [ 0.00000000e+00, -1.07692308e+00, -1.37580300e-01],\n",
       "       [-2.00000000e+00, -1.53846154e-01,  2.75785011e+00],\n",
       "       [ 0.00000000e+00,  0.00000000e+00, -2.87117773e-01],\n",
       "       [ 0.00000000e+00, -9.23076923e-01,  1.51854390e-01],\n",
       "       [ 0.00000000e+00, -9.23076923e-01, -2.87117773e-01],\n",
       "       [-2.00000000e+00, -6.92307692e-01,  5.06599572e-01],\n",
       "       [-2.00000000e+00,  6.92307692e-01,  1.65506638e+00],\n",
       "       [ 0.00000000e+00,  1.23076923e+00, -2.74269807e-01],\n",
       "       [ 0.00000000e+00,  0.00000000e+00,  4.71627409e-01],\n",
       "       [ 0.00000000e+00,  1.53846154e-01, -3.09601713e-01],\n",
       "       [-1.00000000e+00,  6.15384615e-01, -6.22783726e-02],\n",
       "       [-2.00000000e+00, -9.23076923e-01,  1.06834261e+00],\n",
       "       [-2.00000000e+00,  1.07692308e+00,  1.63169165e+00],\n",
       "       [ 0.00000000e+00,  0.00000000e+00, -2.83725910e-01],\n",
       "       [-1.00000000e+00, -7.69230769e-02, -6.22783726e-02],\n",
       "       [-2.00000000e+00,  1.46153846e+00,  1.60795717e+00],\n",
       "       [ 0.00000000e+00, -3.07692308e-01, -2.80873662e-01],\n",
       "       [-2.00000000e+00,  4.61538462e-01,  5.18021413e-01],\n",
       "       [ 0.00000000e+00, -6.92307692e-01, -2.82655246e-01],\n",
       "       [ 0.00000000e+00, -6.15384615e-01, -2.23948608e-01],\n",
       "       [ 0.00000000e+00,  0.00000000e+00,  1.96145610e-03],\n",
       "       [ 0.00000000e+00, -1.38461538e+00,  5.75837259e-01],\n",
       "       [-2.00000000e+00,  9.23076923e-01,  5.68162741e-01],\n",
       "       [-1.00000000e+00,  2.30769231e-01, -6.22783726e-02],\n",
       "       [ 0.00000000e+00, -1.84615385e+00,  5.75837259e-01],\n",
       "       [ 0.00000000e+00,  2.30769231e-01, -2.82655246e-01],\n",
       "       [ 0.00000000e+00, -6.92307692e-01, -2.80873662e-01],\n",
       "       [ 0.00000000e+00, -4.61538462e-01, -2.87117773e-01],\n",
       "       [-2.00000000e+00,  0.00000000e+00,  6.95571734e-01],\n",
       "       [ 0.00000000e+00,  0.00000000e+00, -2.95683084e-01],\n",
       "       [ 0.00000000e+00, -7.69230769e-01, -2.74269807e-01],\n",
       "       [ 0.00000000e+00, -7.69230769e-02,  0.00000000e+00],\n",
       "       [-2.00000000e+00,  0.00000000e+00,  9.01319058e-01],\n",
       "       [ 0.00000000e+00,  0.00000000e+00, -2.87117773e-01],\n",
       "       [-2.00000000e+00,  1.53846154e-01,  7.08599572e-01],\n",
       "       [ 0.00000000e+00,  0.00000000e+00, -2.80873662e-01],\n",
       "       [-1.00000000e+00, -5.38461538e-01,  2.52872805e+00],\n",
       "       [ 0.00000000e+00,  7.69230769e-02, -3.17276231e-01],\n",
       "       [ 0.00000000e+00,  0.00000000e+00, -2.74269807e-01],\n",
       "       [ 0.00000000e+00,  0.00000000e+00, -2.87117773e-01],\n",
       "       [ 0.00000000e+00,  1.30769231e+00,  0.00000000e+00],\n",
       "       [ 0.00000000e+00, -9.23076923e-01,  8.53139186e-01],\n",
       "       [ 0.00000000e+00, -6.92307692e-01, -2.69631692e-01],\n",
       "       [ 0.00000000e+00, -3.84615385e-01, -2.23948608e-01],\n",
       "       [ 0.00000000e+00, -3.07692308e-01, -3.17096360e-01],\n",
       "       [-2.00000000e+00,  2.30769231e+00,  4.23215418e+00],\n",
       "       [ 0.00000000e+00, -1.76923077e+00,  2.05743041e-01],\n",
       "       [-2.00000000e+00,  1.84615385e+00,  3.38525910e+00],\n",
       "       [ 0.00000000e+00,  9.23076923e-01,  5.75837259e-01],\n",
       "       [-2.00000000e+00, -1.30769231e+00,  4.52016274e+00],\n",
       "       [ 0.00000000e+00,  2.84615385e+00, -2.87117773e-01],\n",
       "       [-2.00000000e+00, -7.69230769e-01,  2.79211135e+00],\n",
       "       [-1.00000000e+00,  3.07692308e-01, -1.69344754e-01],\n",
       "       [-2.00000000e+00,  1.69230769e+00,  9.98143897e+00],\n",
       "       [-1.00000000e+00,  5.38461538e-01,  2.80334047e-01],\n",
       "       [ 0.00000000e+00, -6.92307692e-01, -2.81584582e-01],\n",
       "       [ 0.00000000e+00, -5.38461538e-01, -2.86047109e-01],\n",
       "       [-1.00000000e+00, -1.15384615e+00,  2.16094218e-01],\n",
       "       [-1.00000000e+00,  0.00000000e+00,  4.94466809e-01],\n",
       "       [-2.00000000e+00,  0.00000000e+00,  4.91254818e-01],\n",
       "       [ 0.00000000e+00,  0.00000000e+00, -2.87117773e-01],\n",
       "       [-1.00000000e+00,  2.23076923e+00, -1.69344754e-01],\n",
       "       [-1.00000000e+00, -5.38461538e-01,  2.52872805e+00],\n",
       "       [ 0.00000000e+00,  7.69230769e-02, -2.81764454e-01],\n",
       "       [ 0.00000000e+00, -8.46153846e-01, -3.09421842e-01],\n",
       "       [-2.00000000e+00,  1.84615385e+00,  2.73286938e+00],\n",
       "       [-1.00000000e+00, -1.53846154e-01,  4.94466809e-01],\n",
       "       [-2.00000000e+00, -7.69230769e-01,  1.06175931e+01],\n",
       "       [-2.00000000e+00, -1.53846154e-01,  6.65773019e-01],\n",
       "       [-2.00000000e+00,  8.46153846e-01,  2.94235974e+00],\n",
       "       [ 0.00000000e+00, -3.84615385e-01, -2.82655246e-01],\n",
       "       [ 0.00000000e+00,  6.15384615e-01,  4.69293362e-02],\n",
       "       [ 0.00000000e+00,  1.92307692e-01, -2.87117773e-01],\n",
       "       [-2.00000000e+00, -4.61538462e-01,  1.50089079e+00],\n",
       "       [-1.00000000e+00,  7.69230769e-01, -6.22783726e-02],\n",
       "       [ 0.00000000e+00,  1.00000000e+00,  2.46608137e-01],\n",
       "       [ 0.00000000e+00, -9.23076923e-01,  1.08065525e+00],\n",
       "       [-1.00000000e+00,  7.69230769e-02, -1.69344754e-01],\n",
       "       [-2.00000000e+00,  9.23076923e-01,  5.14114775e+00],\n",
       "       [ 0.00000000e+00,  0.00000000e+00, -2.87653105e-01],\n",
       "       [-2.00000000e+00,  2.15384615e+00,  6.95571734e-01],\n",
       "       [-2.00000000e+00,  3.30769231e+00,  1.50107066e+00],\n",
       "       [-2.00000000e+00,  2.30769231e-01,  4.23215418e+00],\n",
       "       [-2.00000000e+00,  1.53846154e-01,  1.81905782e+00],\n",
       "       [-2.00000000e+00,  7.69230769e-01, -6.19023555e-01],\n",
       "       [ 0.00000000e+00,  0.00000000e+00, -3.08531049e-01],\n",
       "       [ 0.00000000e+00, -1.46153846e+00,  2.59991435e-01],\n",
       "       [ 0.00000000e+00, -1.46153846e+00,  7.20376874e-01],\n",
       "       [-2.00000000e+00,  2.53846154e+00,  7.65164882e-01],\n",
       "       [ 0.00000000e+00,  0.00000000e+00, -2.88008565e-01],\n",
       "       [ 0.00000000e+00,  0.00000000e+00, -2.80873662e-01],\n",
       "       [ 0.00000000e+00,  0.00000000e+00, -2.82655246e-01],\n",
       "       [-2.00000000e+00,  1.53846154e+00,  1.60795717e+00],\n",
       "       [ 0.00000000e+00,  1.30769231e+00, -2.74269807e-01],\n",
       "       [-1.00000000e+00,  6.15384615e-01, -6.22783726e-02],\n",
       "       [ 0.00000000e+00, -7.69230769e-02, -2.80873662e-01],\n",
       "       [-2.00000000e+00,  2.76923077e+00,  4.94466809e-01],\n",
       "       [ 0.00000000e+00,  5.38461538e-01, -3.13884368e-01],\n",
       "       [-2.00000000e+00, -6.92307692e-01,  3.28158458e+00],\n",
       "       [ 0.00000000e+00,  7.69230769e-01, -3.17096360e-01],\n",
       "       [ 0.00000000e+00,  1.92307692e-01, -2.74269807e-01],\n",
       "       [ 0.00000000e+00, -2.30769231e-01, -2.86047109e-01],\n",
       "       [-1.00000000e+00,  9.23076923e-01,  1.05121199e+00],\n",
       "       [-2.00000000e+00,  1.46153846e+00,  1.02979872e+00],\n",
       "       [ 0.00000000e+00,  1.53846154e-01, -2.12171306e-01],\n",
       "       [-2.00000000e+00,  9.23076923e-01,  7.08599572e-01],\n",
       "       [-2.00000000e+00,  0.00000000e+00,  1.60795717e+00],\n",
       "       [ 0.00000000e+00, -5.76923077e-01, -3.08531049e-01],\n",
       "       [-2.00000000e+00,  0.00000000e+00,  3.19700214e+00],\n",
       "       [-2.00000000e+00,  6.15384615e-01,  5.06779443e-01],\n",
       "       [-2.00000000e+00,  0.00000000e+00,  8.87901499e+00],\n",
       "       [ 0.00000000e+00, -6.15384615e-01, -1.97361884e-01],\n",
       "       [-2.00000000e+00,  3.30769231e+00,  8.65096360e-01],\n",
       "       [-1.00000000e+00,  6.15384615e-01, -6.76316916e-02],\n",
       "       [-1.00000000e+00, -4.61538462e-01,  6.22946467e-01],\n",
       "       [ 0.00000000e+00,  1.53846154e+00,  8.53139186e-01],\n",
       "       [-1.00000000e+00, -3.84615385e-01, -1.26518201e-01],\n",
       "       [-2.00000000e+00,  3.07692308e-01,  2.64828694e+00],\n",
       "       [-2.00000000e+00,  2.69230769e+00,  2.71966167e+00],\n",
       "       [-1.00000000e+00, -2.09000000e+00,  6.22946467e-01],\n",
       "       [ 0.00000000e+00, -2.30769231e-01, -3.08531049e-01],\n",
       "       [-2.00000000e+00,  5.38461538e-01,  5.18021413e-01],\n",
       "       [-2.00000000e+00,  1.61538462e+00,  4.91434690e-01],\n",
       "       [-2.00000000e+00, -3.07692308e-01,  2.77283940e+00],\n",
       "       [ 0.00000000e+00,  0.00000000e+00,  1.75588865e-04],\n",
       "       [ 0.00000000e+00, -5.38461538e-01, -2.74269807e-01],\n",
       "       [ 0.00000000e+00,  0.00000000e+00, -2.81584582e-01],\n",
       "       [ 0.00000000e+00,  0.00000000e+00,  3.39014989e-02],\n",
       "       [-1.00000000e+00,  0.00000000e+00, -6.19023555e-01],\n",
       "       [ 0.00000000e+00, -1.76923077e+00, -8.47623126e-02],\n",
       "       [-2.00000000e+00,  1.61538462e+00,  1.81905782e+00],\n",
       "       [ 0.00000000e+00, -1.00000000e+00,  0.00000000e+00],\n",
       "       [-2.00000000e+00,  0.00000000e+00,  4.12972591e+00],\n",
       "       [ 0.00000000e+00,  7.69230769e-02, -2.86047109e-01],\n",
       "       [ 0.00000000e+00,  1.07692308e+00, -2.95683084e-01],\n",
       "       [ 0.00000000e+00, -7.69230769e-01,  1.43289079e-01],\n",
       "       [ 0.00000000e+00, -5.38461538e-01, -2.57854390e-01],\n",
       "       [-1.00000000e+00,  1.23076923e+00,  4.94466809e-01],\n",
       "       [-1.00000000e+00,  0.00000000e+00, -6.22783726e-02],\n",
       "       [-1.00000000e+00,  6.92307692e-01,  4.94466809e-01],\n",
       "       [ 0.00000000e+00,  8.46153846e-01,  6.28299786e-01],\n",
       "       [-1.00000000e+00,  4.61538462e-01,  7.72839400e-01],\n",
       "       [-1.00000000e+00,  1.53846154e-01, -6.22783726e-02],\n",
       "       [-1.00000000e+00,  2.92307692e+00, -1.69344754e-01],\n",
       "       [-2.00000000e+00,  0.00000000e+00,  5.65595717e+00],\n",
       "       [ 0.00000000e+00,  1.15384615e+00, -2.74269807e-01],\n",
       "       [ 0.00000000e+00,  0.00000000e+00, -2.45897216e-01],\n",
       "       [ 0.00000000e+00, -3.07692308e-01, -2.98004283e-01],\n",
       "       [ 0.00000000e+00, -7.69230769e-01, -2.85156317e-01],\n",
       "       [ 0.00000000e+00,  0.00000000e+00,  4.15237687e-01],\n",
       "       [ 0.00000000e+00,  0.00000000e+00, -2.74269807e-01],\n",
       "       [ 0.00000000e+00,  0.00000000e+00, -3.17096360e-01],\n",
       "       [ 0.00000000e+00,  0.00000000e+00,  1.80049679e+00],\n",
       "       [ 0.00000000e+00,  0.00000000e+00, -2.85511777e-01],\n",
       "       [-1.00000000e+00,  6.15384615e-01,  4.94466809e-01],\n",
       "       [ 0.00000000e+00,  3.07692308e-01,  4.47880086e-02],\n",
       "       [ 0.00000000e+00, -3.46153846e-01, -3.09421842e-01],\n",
       "       [-2.00000000e+00,  0.00000000e+00,  5.18021413e-01],\n",
       "       [-1.00000000e+00,  8.46153846e-01, -6.22783726e-02],\n",
       "       [-2.00000000e+00,  0.00000000e+00,  2.90006852e+00],\n",
       "       [ 0.00000000e+00,  0.00000000e+00, -2.56783726e-01],\n",
       "       [-2.00000000e+00,  2.84615385e+00,  2.03533191e+00],\n",
       "       [-1.00000000e+00, -3.84615385e-01, -1.69344754e-01],\n",
       "       [-2.00000000e+00,  0.00000000e+00,  1.60206852e+00],\n",
       "       [ 0.00000000e+00, -4.61538462e-01, -2.80873662e-01],\n",
       "       [ 0.00000000e+00,  5.38461538e-01, -3.17096360e-01],\n",
       "       [-2.00000000e+00, -3.84615385e-01,  2.09439400e+00],\n",
       "       [-1.00000000e+00, -7.69230769e-01, -6.22783726e-02],\n",
       "       [-2.00000000e+00,  6.15384615e-01,  5.11062099e-01],\n",
       "       [ 0.00000000e+00, -1.46153846e+00,  3.39014989e-02],\n",
       "       [ 0.00000000e+00, -8.46153846e-01, -3.13884368e-01],\n",
       "       [ 0.00000000e+00,  0.00000000e+00, -3.09601713e-01],\n",
       "       [ 0.00000000e+00,  7.69230769e-01,  7.25194861e-01],\n",
       "       [-1.00000000e+00, -8.46153846e-01, -1.69344754e-01],\n",
       "       [ 0.00000000e+00, -1.84615385e+00,  9.61798715e-02],\n",
       "       [-2.00000000e+00,  1.34615385e+00,  6.01533191e-01],\n",
       "       [-1.00000000e+00, -3.84615385e-01, -6.22783726e-02],\n",
       "       [ 0.00000000e+00,  3.07692308e-01, -2.79623126e-01],\n",
       "       [ 0.00000000e+00, -1.53846154e-01, -2.82655246e-01],\n",
       "       [ 0.00000000e+00, -1.69230769e+00,  7.20376874e-01],\n",
       "       [-2.00000000e+00, -3.07692308e-01,  9.98143897e+00],\n",
       "       [-2.00000000e+00,  1.30769231e+00,  5.18021413e-01],\n",
       "       [-1.00000000e+00,  7.69230769e-02,  5.68162741e-01],\n",
       "       [ 0.00000000e+00,  0.00000000e+00, -2.80873662e-01],\n",
       "       [-2.00000000e+00,  0.00000000e+00,  9.01319058e-01],\n",
       "       [-1.00000000e+00,  1.07692308e+00, -6.22783726e-02],\n",
       "       [ 0.00000000e+00,  6.15384615e-01,  4.15237687e-01],\n",
       "       [-1.00000000e+00,  3.84615385e-01, -9.33276231e-02],\n",
       "       [ 0.00000000e+00, -8.46153846e-01, -3.16916488e-01],\n",
       "       [ 0.00000000e+00,  7.69230769e-02, -2.12171306e-01],\n",
       "       [-1.00000000e+00,  1.69230769e+00,  4.94466809e-01],\n",
       "       [-2.00000000e+00,  5.38461538e-01,  3.23536617e+00],\n",
       "       [-2.00000000e+00,  7.69230769e-01,  9.12508779e+00],\n",
       "       [-1.00000000e+00,  4.61538462e-01, -6.22783726e-02],\n",
       "       [-2.00000000e+00, -8.46153846e-01,  1.82208994e+00],\n",
       "       [ 0.00000000e+00, -1.30769231e+00,  7.20376874e-01],\n",
       "       [ 0.00000000e+00,  2.53846154e+00, -3.51892934e-01],\n",
       "       [ 0.00000000e+00,  1.53846154e-01, -2.48038544e-01],\n",
       "       [-1.00000000e+00, -1.61538462e+00,  5.05173448e-01],\n",
       "       [ 0.00000000e+00,  2.69230769e+00, -2.08423983e-01],\n",
       "       [ 0.00000000e+00, -6.15384615e-01, -3.09421842e-01],\n",
       "       [ 0.00000000e+00,  0.00000000e+00,  3.38505353e-01],\n",
       "       [ 0.00000000e+00,  7.69230769e-02, -2.12886510e-01],\n",
       "       [-2.00000000e+00,  6.15384615e-01,  4.52016274e+00],\n",
       "       [ 0.00000000e+00,  0.00000000e+00,  1.75588865e-04],\n",
       "       [ 0.00000000e+00,  1.69230769e+00, -2.74269807e-01],\n",
       "       [-2.00000000e+00, -7.69230769e-02,  8.43879229e+00],\n",
       "       [ 0.00000000e+00,  1.53846154e-01, -3.08531049e-01],\n",
       "       [-2.00000000e+00,  3.84615385e-01,  3.23536617e+00],\n",
       "       [ 0.00000000e+00,  0.00000000e+00, -2.88188437e-01],\n",
       "       [ 0.00000000e+00,  0.00000000e+00,  4.71627409e-01],\n",
       "       [ 0.00000000e+00, -2.00000000e+00,  2.83546039e-01],\n",
       "       [-1.00000000e+00, -2.30769231e-01,  6.65773019e-01],\n",
       "       [-2.00000000e+00,  1.76923077e+00,  2.00963597e+00],\n",
       "       [-1.00000000e+00, -2.30769231e-01,  4.94466809e-01],\n",
       "       [ 0.00000000e+00,  0.00000000e+00, -3.08531049e-01],\n",
       "       [ 0.00000000e+00,  0.00000000e+00, -2.80873662e-01],\n",
       "       [-1.00000000e+00, -3.07692308e-01, -6.22783726e-02],\n",
       "       [ 0.00000000e+00, -7.69230769e-01,  2.46608137e-01],\n",
       "       [-2.00000000e+00,  0.00000000e+00,  6.87186296e-01],\n",
       "       [ 0.00000000e+00, -2.30769231e-01, -3.17096360e-01],\n",
       "       [-1.00000000e+00, -3.07692308e-01,  1.96145610e-03],\n",
       "       [ 0.00000000e+00, -4.61538462e-01, -2.96933619e-01],\n",
       "       [-2.00000000e+00, -2.08307692e+00,  5.87134047e+00],\n",
       "       [-1.00000000e+00, -3.07692308e-01,  4.94466809e-01],\n",
       "       [ 0.00000000e+00, -1.53846154e-01, -2.79623126e-01],\n",
       "       [-1.00000000e+00,  4.61538462e-01,  2.80334047e-01],\n",
       "       [-2.00000000e+00, -5.38461538e-01,  1.06175931e+01],\n",
       "       [ 0.00000000e+00,  0.00000000e+00, -2.87117773e-01],\n",
       "       [ 0.00000000e+00,  0.00000000e+00, -3.09421842e-01],\n",
       "       [ 0.00000000e+00,  0.00000000e+00, -2.48038544e-01],\n",
       "       [ 0.00000000e+00, -4.61538462e-01, -2.86047109e-01],\n",
       "       [-2.00000000e+00,  2.61538462e+00,  2.80710064e+00],\n",
       "       [ 0.00000000e+00, -7.69230769e-01, -1.97537473e-01],\n",
       "       [-2.00000000e+00,  1.07692308e+00,  9.12508779e+00],\n",
       "       [-1.00000000e+00,  2.23076923e+00, -9.01156317e-02],\n",
       "       [ 0.00000000e+00, -6.92307692e-01, -6.19023555e-01],\n",
       "       [-1.00000000e+00,  1.07692308e+00,  4.94466809e-01],\n",
       "       [ 0.00000000e+00,  0.00000000e+00, -3.09601713e-01],\n",
       "       [ 0.00000000e+00, -6.15384615e-01, -2.48038544e-01],\n",
       "       [ 0.00000000e+00,  5.00000000e-01, -3.43327623e-01],\n",
       "       [ 0.00000000e+00,  0.00000000e+00, -2.12171306e-01],\n",
       "       [ 0.00000000e+00,  0.00000000e+00, -2.74269807e-01],\n",
       "       [ 0.00000000e+00, -3.84615385e-01, -2.80873662e-01],\n",
       "       [ 0.00000000e+00, -4.61538462e-01, -3.08531049e-01],\n",
       "       [-2.00000000e+00,  1.84615385e+00,  6.87186296e-01],\n",
       "       [ 0.00000000e+00,  1.53846154e-01, -8.47623126e-02],\n",
       "       [-1.00000000e+00,  6.53846154e-01,  4.94466809e-01],\n",
       "       [ 0.00000000e+00,  0.00000000e+00, -2.87117773e-01],\n",
       "       [ 0.00000000e+00, -4.61538462e-01, -3.09421842e-01],\n",
       "       [-2.00000000e+00,  1.69230769e+00,  5.10474518e+00],\n",
       "       [ 0.00000000e+00, -7.69230769e-02, -3.20308351e-01],\n",
       "       [ 0.00000000e+00, -4.61538462e-01, -2.74269807e-01],\n",
       "       [-2.00000000e+00,  1.76923077e+00,  2.71966167e+00],\n",
       "       [-1.00000000e+00,  6.15384615e-01, -1.69344754e-01],\n",
       "       [-1.00000000e+00,  7.69230769e-02,  4.94466809e-01],\n",
       "       [-2.00000000e+00, -4.61538462e-01,  5.87134047e+00],\n",
       "       [-2.00000000e+00,  1.69230769e+00,  3.93879229e+00],\n",
       "       [-1.00000000e+00,  9.23076923e-01, -6.22783726e-02],\n",
       "       [ 0.00000000e+00, -7.69230769e-02, -2.48038544e-01],\n",
       "       [-2.00000000e+00,  0.00000000e+00, -6.19023555e-01],\n",
       "       [-2.00000000e+00,  2.84615385e+00,  5.18021413e-01],\n",
       "       [ 0.00000000e+00, -8.46153846e-01, -2.48038544e-01],\n",
       "       [-2.00000000e+00,  0.00000000e+00,  5.18021413e-01],\n",
       "       [-2.00000000e+00, -1.84615385e+00,  2.88668522e+00],\n",
       "       [ 0.00000000e+00,  0.00000000e+00, -2.80873662e-01],\n",
       "       [ 0.00000000e+00, -2.07692308e+00, -1.42222698e-01],\n",
       "       [-1.00000000e+00,  6.15384615e-01,  5.69413276e-01],\n",
       "       [-1.00000000e+00,  1.15384615e+00,  5.05173448e-01],\n",
       "       [-2.00000000e+00,  7.69230769e-01,  5.95324625e+00],\n",
       "       [-1.00000000e+00,  2.30769231e-01,  5.05173448e-01],\n",
       "       [ 0.00000000e+00,  7.69230769e-02, -2.74269807e-01],\n",
       "       [ 0.00000000e+00, -7.69230769e-01, -2.63563169e-01],\n",
       "       [-1.00000000e+00,  0.00000000e+00,  2.55160600e-02],\n",
       "       [-2.00000000e+00,  8.46153846e-01,  4.12972591e+00],\n",
       "       [-1.00000000e+00,  8.46153846e-01, -6.22783726e-02],\n",
       "       [ 0.00000000e+00, -1.53846154e-01, -2.48038544e-01],\n",
       "       [ 0.00000000e+00, -6.15384615e-01, -3.17096360e-01],\n",
       "       [-2.00000000e+00,  0.00000000e+00,  5.10474518e+00],\n",
       "       [ 0.00000000e+00,  1.61538462e+00, -6.19023555e-01],\n",
       "       [-1.00000000e+00, -3.84615385e-01,  2.53361884e-02],\n",
       "       [ 0.00000000e+00, -2.07692308e+00,  1.08065525e+00],\n",
       "       [ 0.00000000e+00,  0.00000000e+00, -2.81584582e-01],\n",
       "       [ 0.00000000e+00,  0.00000000e+00,  3.85259101e-01],\n",
       "       [-1.00000000e+00, -1.92307692e+00,  4.94466809e-01],\n",
       "       [ 0.00000000e+00, -1.84615385e+00, -1.42222698e-01],\n",
       "       [ 0.00000000e+00, -6.92307692e-01, -2.91400428e-01],\n",
       "       [ 0.00000000e+00,  9.61538462e-01, -2.87117773e-01],\n",
       "       [ 0.00000000e+00, -2.07692308e+00,  5.51391863e-02],\n",
       "       [ 0.00000000e+00,  0.00000000e+00,  3.39014989e-02],\n",
       "       [ 0.00000000e+00, -5.38461538e-01, -2.79623126e-01]])"
      ]
     },
     "execution_count": 48,
     "metadata": {},
     "output_type": "execute_result"
    }
   ],
   "source": [
    "scaler.transform(X_test)"
   ]
  },
  {
   "cell_type": "code",
   "execution_count": 49,
   "id": "73011e74",
   "metadata": {},
   "outputs": [
    {
     "data": {
      "text/plain": [
       "<AxesSubplot:xlabel='Fare', ylabel='Count'>"
      ]
     },
     "execution_count": 49,
     "metadata": {},
     "output_type": "execute_result"
    },
    {
     "data": {
      "image/png": "[encoded data removed]",
      "text/plain": [
       "<Figure size 432x288 with 1 Axes>"
      ]
     },
     "metadata": {
      "needs_background": "light"
     },
     "output_type": "display_data"
    }
   ],
   "source": [
    "sns.histplot(data=X_train, x=\"Fare\")"
   ]
  },
  {
   "cell_type": "code",
   "execution_count": 58,
   "id": "34602463",
   "metadata": {},
   "outputs": [
    {
     "data": {
      "text/plain": [
       "<AxesSubplot:xlabel='2', ylabel='Count'>"
      ]
     },
     "execution_count": 58,
     "metadata": {},
     "output_type": "execute_result"
    },
    {
     "data": {
      "image/png": "[encoded data removed]",
      "text/plain": [
       "<Figure size 432x288 with 1 Axes>"
      ]
     },
     "metadata": {
      "needs_background": "light"
     },
     "output_type": "display_data"
    }
   ],
   "source": [
    "sns.histplot(data=df_robust[2])"
   ]
  },
  {
   "cell_type": "code",
   "execution_count": 56,
   "id": "f742e62f",
   "metadata": {},
   "outputs": [
    {
     "data": {
      "text/html": [
       "<div>\n",
       "<style scoped>\n",
       "    .dataframe tbody tr th:only-of-type {\n",
       "        vertical-align: middle;\n",
       "    }\n",
       "\n",
       "    .dataframe tbody tr th {\n",
       "        vertical-align: top;\n",
       "    }\n",
       "\n",
       "    .dataframe thead th {\n",
       "        text-align: right;\n",
       "    }\n",
       "</style>\n",
       "<table border=\"1\" class=\"dataframe\">\n",
       "  <thead>\n",
       "    <tr style=\"text-align: right;\">\n",
       "      <th></th>\n",
       "      <th>0</th>\n",
       "      <th>1</th>\n",
       "      <th>2</th>\n",
       "    </tr>\n",
       "  </thead>\n",
       "  <tbody>\n",
       "    <tr>\n",
       "      <th>0</th>\n",
       "      <td>-2.0</td>\n",
       "      <td>2.000000</td>\n",
       "      <td>1.602069</td>\n",
       "    </tr>\n",
       "    <tr>\n",
       "      <th>1</th>\n",
       "      <td>0.0</td>\n",
       "      <td>0.000000</td>\n",
       "      <td>0.044788</td>\n",
       "    </tr>\n",
       "    <tr>\n",
       "      <th>2</th>\n",
       "      <td>-1.0</td>\n",
       "      <td>-0.230769</td>\n",
       "      <td>1.161670</td>\n",
       "    </tr>\n",
       "    <tr>\n",
       "      <th>3</th>\n",
       "      <td>0.0</td>\n",
       "      <td>-0.153846</td>\n",
       "      <td>0.000000</td>\n",
       "    </tr>\n",
       "    <tr>\n",
       "      <th>4</th>\n",
       "      <td>0.0</td>\n",
       "      <td>-0.461538</td>\n",
       "      <td>-0.168630</td>\n",
       "    </tr>\n",
       "    <tr>\n",
       "      <th>...</th>\n",
       "      <td>...</td>\n",
       "      <td>...</td>\n",
       "      <td>...</td>\n",
       "    </tr>\n",
       "    <tr>\n",
       "      <th>591</th>\n",
       "      <td>0.0</td>\n",
       "      <td>-0.538462</td>\n",
       "      <td>-0.291400</td>\n",
       "    </tr>\n",
       "    <tr>\n",
       "      <th>592</th>\n",
       "      <td>-2.0</td>\n",
       "      <td>0.000000</td>\n",
       "      <td>0.708600</td>\n",
       "    </tr>\n",
       "    <tr>\n",
       "      <th>593</th>\n",
       "      <td>0.0</td>\n",
       "      <td>1.000000</td>\n",
       "      <td>-0.014814</td>\n",
       "    </tr>\n",
       "    <tr>\n",
       "      <th>594</th>\n",
       "      <td>-2.0</td>\n",
       "      <td>-1.076923</td>\n",
       "      <td>4.520163</td>\n",
       "    </tr>\n",
       "    <tr>\n",
       "      <th>595</th>\n",
       "      <td>-2.0</td>\n",
       "      <td>-0.538462</td>\n",
       "      <td>2.690934</td>\n",
       "    </tr>\n",
       "  </tbody>\n",
       "</table>\n",
       "<p>596 rows × 3 columns</p>\n",
       "</div>"
      ],
      "text/plain": [
       "       0         1         2\n",
       "0   -2.0  2.000000  1.602069\n",
       "1    0.0  0.000000  0.044788\n",
       "2   -1.0 -0.230769  1.161670\n",
       "3    0.0 -0.153846  0.000000\n",
       "4    0.0 -0.461538 -0.168630\n",
       "..   ...       ...       ...\n",
       "591  0.0 -0.538462 -0.291400\n",
       "592 -2.0  0.000000  0.708600\n",
       "593  0.0  1.000000 -0.014814\n",
       "594 -2.0 -1.076923  4.520163\n",
       "595 -2.0 -0.538462  2.690934\n",
       "\n",
       "[596 rows x 3 columns]"
      ]
     },
     "execution_count": 56,
     "metadata": {},
     "output_type": "execute_result"
    }
   ],
   "source": [
    "df_robust"
   ]
  },
  {
   "cell_type": "code",
   "execution_count": 57,
   "id": "5c94e87a",
   "metadata": {},
   "outputs": [
    {
     "data": {
      "text/plain": [
       "0      1.602069\n",
       "1      0.044788\n",
       "2      1.161670\n",
       "3      0.000000\n",
       "4     -0.168630\n",
       "         ...   \n",
       "591   -0.291400\n",
       "592    0.708600\n",
       "593   -0.014814\n",
       "594    4.520163\n",
       "595    2.690934\n",
       "Name: 2, Length: 596, dtype: float64"
      ]
     },
     "execution_count": 57,
     "metadata": {},
     "output_type": "execute_result"
    }
   ],
   "source": [
    "df_robust[2]"
   ]
  },
  {
   "cell_type": "markdown",
   "id": "1894241e",
   "metadata": {},
   "source": [
    "### Gaussian Transformation\n",
    "\n",
    "Helpful with algorithms like Linear and Logistic Reg. as they assume that the features are normally distributed. (ANN Also)\n",
    "\n",
    "* Logarithmic transformation\n",
    "* Reciprocal transformation\n",
    "* Square root transformation\n",
    "* Exponential transformation\n",
    "* Boxcox Transformation\n",
    "\n",
    "These techniques can convert almost any distribution to Gaussian distribution.\n",
    "\n",
    "We have to check experimentally to find which transformation will work in our case."
   ]
  },
  {
   "cell_type": "code",
   "execution_count": 59,
   "id": "3a8e6aab",
   "metadata": {},
   "outputs": [
    {
     "data": {
      "text/html": [
       "<div>\n",
       "<style scoped>\n",
       "    .dataframe tbody tr th:only-of-type {\n",
       "        vertical-align: middle;\n",
       "    }\n",
       "\n",
       "    .dataframe tbody tr th {\n",
       "        vertical-align: top;\n",
       "    }\n",
       "\n",
       "    .dataframe thead th {\n",
       "        text-align: right;\n",
       "    }\n",
       "</style>\n",
       "<table border=\"1\" class=\"dataframe\">\n",
       "  <thead>\n",
       "    <tr style=\"text-align: right;\">\n",
       "      <th></th>\n",
       "      <th>Survived</th>\n",
       "      <th>Pclass</th>\n",
       "      <th>Age</th>\n",
       "      <th>Fare</th>\n",
       "    </tr>\n",
       "  </thead>\n",
       "  <tbody>\n",
       "    <tr>\n",
       "      <th>0</th>\n",
       "      <td>0</td>\n",
       "      <td>3</td>\n",
       "      <td>22.0</td>\n",
       "      <td>7.2500</td>\n",
       "    </tr>\n",
       "    <tr>\n",
       "      <th>1</th>\n",
       "      <td>1</td>\n",
       "      <td>1</td>\n",
       "      <td>38.0</td>\n",
       "      <td>71.2833</td>\n",
       "    </tr>\n",
       "    <tr>\n",
       "      <th>2</th>\n",
       "      <td>1</td>\n",
       "      <td>3</td>\n",
       "      <td>26.0</td>\n",
       "      <td>7.9250</td>\n",
       "    </tr>\n",
       "    <tr>\n",
       "      <th>3</th>\n",
       "      <td>1</td>\n",
       "      <td>1</td>\n",
       "      <td>35.0</td>\n",
       "      <td>53.1000</td>\n",
       "    </tr>\n",
       "    <tr>\n",
       "      <th>4</th>\n",
       "      <td>0</td>\n",
       "      <td>3</td>\n",
       "      <td>35.0</td>\n",
       "      <td>8.0500</td>\n",
       "    </tr>\n",
       "  </tbody>\n",
       "</table>\n",
       "</div>"
      ],
      "text/plain": [
       "   Survived  Pclass   Age     Fare\n",
       "0         0       3  22.0   7.2500\n",
       "1         1       1  38.0  71.2833\n",
       "2         1       3  26.0   7.9250\n",
       "3         1       1  35.0  53.1000\n",
       "4         0       3  35.0   8.0500"
      ]
     },
     "execution_count": 59,
     "metadata": {},
     "output_type": "execute_result"
    }
   ],
   "source": [
    "df = pd.read_csv('titanic.csv', usecols=['Pclass', 'Age', 'Fare', 'Survived'])\n",
    "df.head()"
   ]
  },
  {
   "cell_type": "code",
   "execution_count": 60,
   "id": "65f19e39",
   "metadata": {},
   "outputs": [],
   "source": [
    "df['Age'].fillna(df.Age.median(), inplace= True)"
   ]
  },
  {
   "cell_type": "code",
   "execution_count": 62,
   "id": "cf077a04",
   "metadata": {},
   "outputs": [
    {
     "data": {
      "text/plain": [
       "0"
      ]
     },
     "execution_count": 62,
     "metadata": {},
     "output_type": "execute_result"
    }
   ],
   "source": [
    "df['Age'].isnull().sum()"
   ]
  },
  {
   "cell_type": "code",
   "execution_count": 64,
   "id": "f7ff52b0",
   "metadata": {},
   "outputs": [
    {
     "data": {
      "text/plain": [
       "Survived    0\n",
       "Pclass      0\n",
       "Age         0\n",
       "Fare        0\n",
       "dtype: int64"
      ]
     },
     "execution_count": 64,
     "metadata": {},
     "output_type": "execute_result"
    }
   ],
   "source": [
    "df.isnull().sum()"
   ]
  },
  {
   "cell_type": "code",
   "execution_count": 65,
   "id": "cbf116f1",
   "metadata": {},
   "outputs": [],
   "source": [
    "import matplotlib.pyplot as plt\n",
    "import scipy.stats as stat\n",
    "import pylab"
   ]
  },
  {
   "cell_type": "code",
   "execution_count": 68,
   "id": "12ffc214",
   "metadata": {},
   "outputs": [],
   "source": [
    "## To check weather a feature is nomally or gaussian distributed we use:\n",
    "## Q-Q plot\n",
    "\n",
    "def plot_data(df, feature):\n",
    "    plt.figure(figsize=(10,6))\n",
    "    plt.subplot(1,2,1)\n",
    "    df[feature].hist()\n",
    "    plt.subplot(1,2,2)\n",
    "    stat.probplot(df[feature], dist='norm', plot=pylab)\n",
    "    plt.show()"
   ]
  },
  {
   "cell_type": "code",
   "execution_count": 69,
   "id": "a093ada4",
   "metadata": {},
   "outputs": [
    {
     "data": {
      "image/png": "[encoded data removed]",
      "text/plain": [
       "<Figure size 720x432 with 2 Axes>"
      ]
     },
     "metadata": {
      "needs_background": "light"
     },
     "output_type": "display_data"
    }
   ],
   "source": [
    "plot_data(df,'Age')\n",
    "\n",
    "##if it probablity plot of a feature follows a straight line then it is Normally distributed\n",
    "\n",
    "## data is right skewed"
   ]
  },
  {
   "cell_type": "markdown",
   "id": "06fa2247",
   "metadata": {},
   "source": [
    "### Applying Logrithmic transformation"
   ]
  },
  {
   "cell_type": "code",
   "execution_count": 70,
   "id": "bda54542",
   "metadata": {},
   "outputs": [
    {
     "data": {
      "text/html": [
       "<div>\n",
       "<style scoped>\n",
       "    .dataframe tbody tr th:only-of-type {\n",
       "        vertical-align: middle;\n",
       "    }\n",
       "\n",
       "    .dataframe tbody tr th {\n",
       "        vertical-align: top;\n",
       "    }\n",
       "\n",
       "    .dataframe thead th {\n",
       "        text-align: right;\n",
       "    }\n",
       "</style>\n",
       "<table border=\"1\" class=\"dataframe\">\n",
       "  <thead>\n",
       "    <tr style=\"text-align: right;\">\n",
       "      <th></th>\n",
       "      <th>Survived</th>\n",
       "      <th>Pclass</th>\n",
       "      <th>Age</th>\n",
       "      <th>Fare</th>\n",
       "      <th>Age_log</th>\n",
       "    </tr>\n",
       "  </thead>\n",
       "  <tbody>\n",
       "    <tr>\n",
       "      <th>0</th>\n",
       "      <td>0</td>\n",
       "      <td>3</td>\n",
       "      <td>22.0</td>\n",
       "      <td>7.2500</td>\n",
       "      <td>3.091042</td>\n",
       "    </tr>\n",
       "    <tr>\n",
       "      <th>1</th>\n",
       "      <td>1</td>\n",
       "      <td>1</td>\n",
       "      <td>38.0</td>\n",
       "      <td>71.2833</td>\n",
       "      <td>3.637586</td>\n",
       "    </tr>\n",
       "    <tr>\n",
       "      <th>2</th>\n",
       "      <td>1</td>\n",
       "      <td>3</td>\n",
       "      <td>26.0</td>\n",
       "      <td>7.9250</td>\n",
       "      <td>3.258097</td>\n",
       "    </tr>\n",
       "    <tr>\n",
       "      <th>3</th>\n",
       "      <td>1</td>\n",
       "      <td>1</td>\n",
       "      <td>35.0</td>\n",
       "      <td>53.1000</td>\n",
       "      <td>3.555348</td>\n",
       "    </tr>\n",
       "    <tr>\n",
       "      <th>4</th>\n",
       "      <td>0</td>\n",
       "      <td>3</td>\n",
       "      <td>35.0</td>\n",
       "      <td>8.0500</td>\n",
       "      <td>3.555348</td>\n",
       "    </tr>\n",
       "  </tbody>\n",
       "</table>\n",
       "</div>"
      ],
      "text/plain": [
       "   Survived  Pclass   Age     Fare   Age_log\n",
       "0         0       3  22.0   7.2500  3.091042\n",
       "1         1       1  38.0  71.2833  3.637586\n",
       "2         1       3  26.0   7.9250  3.258097\n",
       "3         1       1  35.0  53.1000  3.555348\n",
       "4         0       3  35.0   8.0500  3.555348"
      ]
     },
     "execution_count": 70,
     "metadata": {},
     "output_type": "execute_result"
    }
   ],
   "source": [
    "df['Age_log'] = np.log(df['Age'])\n",
    "df.head()"
   ]
  },
  {
   "cell_type": "code",
   "execution_count": 71,
   "id": "60046319",
   "metadata": {},
   "outputs": [
    {
     "data": {
      "image/png": "[encoded data removed]",
      "text/plain": [
       "<Figure size 720x432 with 2 Axes>"
      ]
     },
     "metadata": {
      "needs_background": "light"
     },
     "output_type": "display_data"
    }
   ],
   "source": [
    "plot_data(df, 'Age_log')  #does not exactly follows the none \n",
    "\n",
    "#distribution is left skewed\n",
    "#not a good option"
   ]
  },
  {
   "cell_type": "markdown",
   "id": "20bd76bc",
   "metadata": {},
   "source": [
    "### Reciprocal Transformation"
   ]
  },
  {
   "cell_type": "code",
   "execution_count": 72,
   "id": "1af61c78",
   "metadata": {},
   "outputs": [],
   "source": [
    "df['Age_reciprocal'] = 1/df['Age']"
   ]
  },
  {
   "cell_type": "code",
   "execution_count": 73,
   "id": "ee44061e",
   "metadata": {},
   "outputs": [
    {
     "data": {
      "image/png": "[encoded data removed]",
      "text/plain": [
       "<Figure size 720x432 with 2 Axes>"
      ]
     },
     "metadata": {
      "needs_background": "light"
     },
     "output_type": "display_data"
    }
   ],
   "source": [
    "plot_data(df, 'Age_reciprocal') \n",
    "## Right skewed distribution"
   ]
  },
  {
   "cell_type": "markdown",
   "id": "20ed6611",
   "metadata": {},
   "source": [
    "### Square Root Transformation "
   ]
  },
  {
   "cell_type": "code",
   "execution_count": 74,
   "id": "14055a7c",
   "metadata": {},
   "outputs": [
    {
     "data": {
      "image/png": "[encoded data removed]",
      "text/plain": [
       "<Figure size 720x432 with 2 Axes>"
      ]
     },
     "metadata": {
      "needs_background": "light"
     },
     "output_type": "display_data"
    }
   ],
   "source": [
    "df['Age_sq'] = df.Age**(1/2)\n",
    "plot_data(df, 'Age_sq')\n",
    "#better \n",
    "#still a bit left skewed"
   ]
  },
  {
   "cell_type": "markdown",
   "id": "8b117686",
   "metadata": {},
   "source": [
    "### Exponential Transformation"
   ]
  },
  {
   "cell_type": "code",
   "execution_count": 75,
   "id": "6ad3ae82",
   "metadata": {},
   "outputs": [
    {
     "data": {
      "image/png": "[encoded data removed]",
      "text/plain": [
       "<Figure size 720x432 with 2 Axes>"
      ]
     },
     "metadata": {
      "needs_background": "light"
     },
     "output_type": "display_data"
    }
   ],
   "source": [
    "df['Age_exp'] = df.Age**(1/1.2)\n",
    "plot_data(df, 'Age_exp')\n",
    "#better result almost gaussian"
   ]
  },
  {
   "cell_type": "markdown",
   "id": "cef3e13a",
   "metadata": {},
   "source": [
    "### BoxCox Transformation\n",
    "\n",
    "It is defined as:\n",
    "\n",
    "T(Y) = (Y exp(lamda)-1)/lamda\n",
    "\n",
    "where Y is response variable and lamda is the tansformation parameter, it varies from -5 to 5.\n",
    "In the transformation, all values of lamda are considered and the optimal value for a given variable is selected."
   ]
  },
  {
   "cell_type": "code",
   "execution_count": 76,
   "id": "8b50ac96",
   "metadata": {},
   "outputs": [],
   "source": [
    "df['Age_bxcx'], parameters = stat.boxcox(df['Age']) "
   ]
  },
  {
   "cell_type": "code",
   "execution_count": 77,
   "id": "56b681fb",
   "metadata": {},
   "outputs": [
    {
     "name": "stdout",
     "output_type": "stream",
     "text": [
      "0.7964531473656952\n"
     ]
    }
   ],
   "source": [
    "print(parameters)"
   ]
  },
  {
   "cell_type": "code",
   "execution_count": 78,
   "id": "44f39f5c",
   "metadata": {},
   "outputs": [
    {
     "data": {
      "image/png": "[encoded data removed]",
      "text/plain": [
       "<Figure size 720x432 with 2 Axes>"
      ]
     },
     "metadata": {
      "needs_background": "light"
     },
     "output_type": "display_data"
    }
   ],
   "source": [
    "plot_data(df, 'Age_bxcx')"
   ]
  },
  {
   "cell_type": "markdown",
   "id": "b3aca926",
   "metadata": {},
   "source": [
    "Observation: boxcox and exponential workds well for Age feature."
   ]
  },
  {
   "cell_type": "code",
   "execution_count": null,
   "id": "a22dcd2b",
   "metadata": {},
   "outputs": [],
   "source": []
  }
 ],
 "metadata": {
  "kernelspec": {
   "display_name": "Python 3 (ipykernel)",
   "language": "python",
   "name": "python3"
  },
  "language_info": {
   "codemirror_mode": {
    "name": "ipython",
    "version": 3
   },
   "file_extension": ".py",
   "mimetype": "text/x-python",
   "name": "python",
   "nbconvert_exporter": "python",
   "pygments_lexer": "ipython3",
   "version": "3.8.8"
  }
 },
 "nbformat": 4,
 "nbformat_minor": 5
}
